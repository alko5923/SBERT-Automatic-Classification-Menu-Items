{
  "nbformat": 4,
  "nbformat_minor": 0,
  "metadata": {
    "colab": {
      "name": "exjobb-custom-metric-1.ipynb",
      "provenance": [],
      "collapsed_sections": []
    },
    "kernelspec": {
      "name": "python3",
      "display_name": "Python 3"
    },
    "language_info": {
      "name": "python"
    }
  },
  "cells": [
    {
      "cell_type": "code",
      "source": [
        "pip install -U sentence-transformers"
      ],
      "metadata": {
        "id": "tAnZ96HO0fuf"
      },
      "execution_count": null,
      "outputs": []
    },
    {
      "cell_type": "code",
      "source": [
        "from sentence_transformers import util\n",
        "import numpy as np"
      ],
      "metadata": {
        "id": "shYvxY4U2H_0"
      },
      "execution_count": 12,
      "outputs": []
    },
    {
      "cell_type": "markdown",
      "source": [
        "Let us begin by loading the embeddings."
      ],
      "metadata": {
        "id": "dsHzOX8rz0z2"
      }
    },
    {
      "cell_type": "code",
      "execution_count": 8,
      "metadata": {
        "id": "3m1Krzldzxz_"
      },
      "outputs": [],
      "source": [
        "import pandas as pd\n",
        "\n",
        "# Load the embeddings\n",
        "df_orig_distiluse_class_le = pd.read_csv('/content/df-orig-distil-class-le.csv')\n",
        "df_orig_para_mini_class_le = pd.read_csv('/content/df-orig-para-mini-class-le.csv')\n",
        "df_orig_para_base_class_le = pd.read_csv('/content/df-orig-para-base-class-le.csv')\n",
        "\n",
        "df_proc_distiluse_class_le = pd.read_csv('/content/df-proc-distil-class-le.csv')\n",
        "df_proc_para_mini_class_le = pd.read_csv('/content/df-proc-para-mini-class-le.csv')\n",
        "df_proc_para_base_class_le = pd.read_csv('/content/df-proc-para-base-class-le.csv')\n",
        "# Define the categories\n",
        "categories = ['Beer', 'Burger', 'Champagne', 'Cider', 'CoffeeTeaMilk', 'Dessert', \n",
        "              'Kids', 'Other', 'Salad', 'SoftDrinks', 'Spirits', 'VariedFood', 'Wine', 'Wings']"
      ]
    },
    {
      "cell_type": "markdown",
      "source": [
        "Let us begin by using the entire dataset to calculate the average embedding of every group."
      ],
      "metadata": {
        "id": "7pDp4XPk0VRF"
      }
    },
    {
      "cell_type": "code",
      "source": [
        "# For the 'distiluse-base-multilingual-cased-v2' model\n",
        "# Original dataset\n",
        "average_emb_distiluse_orig = []\n",
        "for category in categories:\n",
        "  df = df_orig_distiluse_class_le[df_orig_distiluse_class_le['Class1']==category]\n",
        "  # Drop the superfluous columns\n",
        "  df.drop(labels=['ArticleName', 'ArticleGroupName', 'Class1', 'ClassLabel'], axis=1, inplace=True)\n",
        "  df_mean = df.mean().values.tolist()\n",
        "  average_emb_distiluse_orig.append(df_mean)\n",
        "\n",
        "# Processed dataset\n",
        "average_emb_distiluse_proc = []\n",
        "for category in categories:\n",
        "  df = df_proc_distiluse_class_le[df_proc_distiluse_class_le['Class1']==category]\n",
        "  # Drop the superfluous columns\n",
        "  df.drop(labels=['ArticleName', 'ArticleGroupName', 'Class1', 'ClassLabel'], axis=1, inplace=True)\n",
        "  df_mean = df.mean().values.tolist()\n",
        "  average_emb_distiluse_proc.append(df_mean)"
      ],
      "metadata": {
        "colab": {
          "base_uri": "https://localhost:8080/"
        },
        "id": "IYMBdNTl0bsZ",
        "outputId": "af5dee8c-f798-4809-9150-2cc28d931550"
      },
      "execution_count": 9,
      "outputs": [
        {
          "output_type": "stream",
          "name": "stderr",
          "text": [
            "/usr/local/lib/python3.7/dist-packages/pandas/core/frame.py:4913: SettingWithCopyWarning: \n",
            "A value is trying to be set on a copy of a slice from a DataFrame\n",
            "\n",
            "See the caveats in the documentation: https://pandas.pydata.org/pandas-docs/stable/user_guide/indexing.html#returning-a-view-versus-a-copy\n",
            "  errors=errors,\n"
          ]
        }
      ]
    },
    {
      "cell_type": "code",
      "source": [
        "# For the 'paraphrase-multilingual-MiniLM-L12-v2' model\n",
        "# Original dataset\n",
        "average_emb_para_mini_orig = []\n",
        "for category in categories:\n",
        "  df = df_orig_para_mini_class_le[df_orig_para_mini_class_le['Class1']==category]\n",
        "  # Drop the superfluous columns\n",
        "  df.drop(labels=['ArticleName', 'ArticleGroupName', 'Class1', 'ClassLabel'], axis=1, inplace=True)\n",
        "  df_mean = df.mean().values.tolist()\n",
        "  average_emb_para_mini_orig.append(df_mean)\n",
        "\n",
        "# Processed dataset\n",
        "average_emb_para_mini_proc = []\n",
        "for category in categories:\n",
        "  df = df_proc_para_mini_class_le[df_proc_para_mini_class_le['Class1']==category]\n",
        "  # Drop the superfluous columns\n",
        "  df.drop(labels=['ArticleName', 'ArticleGroupName', 'Class1', 'ClassLabel'], axis=1, inplace=True)\n",
        "  df_mean = df.mean().values.tolist()\n",
        "  average_emb_para_mini_proc.append(df_mean)"
      ],
      "metadata": {
        "colab": {
          "base_uri": "https://localhost:8080/"
        },
        "id": "8Qeha7Ks1Q8O",
        "outputId": "b2089d43-7d55-48e8-8238-9d3319ae6ac4"
      },
      "execution_count": 10,
      "outputs": [
        {
          "output_type": "stream",
          "name": "stderr",
          "text": [
            "/usr/local/lib/python3.7/dist-packages/pandas/core/frame.py:4913: SettingWithCopyWarning: \n",
            "A value is trying to be set on a copy of a slice from a DataFrame\n",
            "\n",
            "See the caveats in the documentation: https://pandas.pydata.org/pandas-docs/stable/user_guide/indexing.html#returning-a-view-versus-a-copy\n",
            "  errors=errors,\n"
          ]
        }
      ]
    },
    {
      "cell_type": "code",
      "source": [
        "# For the 'paraphrase-multilingual-mpnet-base-v2' model\n",
        "# Original dataset \n",
        "average_emb_para_base_orig = []\n",
        "for category in categories:\n",
        "  df = df_orig_para_base_class_le[df_orig_para_base_class_le['Class1']==category]\n",
        "  # Drop the superfluous columns\n",
        "  df.drop(labels=['ArticleName', 'ArticleGroupName', 'Class1', 'ClassLabel'], axis=1, inplace=True)\n",
        "  df_mean = df.mean().values.tolist()\n",
        "  average_emb_para_base_orig.append(df_mean)\n",
        "\n",
        "# Processed dataset \n",
        "average_emb_para_base_proc = []\n",
        "for category in categories:\n",
        "  df = df_proc_para_base_class_le[df_proc_para_base_class_le['Class1']==category]\n",
        "  # Drop the superfluous columns\n",
        "  df.drop(labels=['ArticleName', 'ArticleGroupName', 'Class1', 'ClassLabel'], axis=1, inplace=True)\n",
        "  df_mean = df.mean().values.tolist()\n",
        "  average_emb_para_base_proc.append(df_mean)"
      ],
      "metadata": {
        "colab": {
          "base_uri": "https://localhost:8080/"
        },
        "id": "XGAxxz2v2ihG",
        "outputId": "ffdfb03f-6bcf-42c1-8725-3c3ea6c25204"
      },
      "execution_count": 11,
      "outputs": [
        {
          "output_type": "stream",
          "name": "stderr",
          "text": [
            "/usr/local/lib/python3.7/dist-packages/pandas/core/frame.py:4913: SettingWithCopyWarning: \n",
            "A value is trying to be set on a copy of a slice from a DataFrame\n",
            "\n",
            "See the caveats in the documentation: https://pandas.pydata.org/pandas-docs/stable/user_guide/indexing.html#returning-a-view-versus-a-copy\n",
            "  errors=errors,\n"
          ]
        }
      ]
    },
    {
      "cell_type": "markdown",
      "source": [
        "Now we can calculate the average error for every category, where the error = 1 - cos_sim(embedding, ave_embedding_category) for all embeddings in a category. In addition, we can also calculate the average of the average errors to get a sense of how well the model performed.  "
      ],
      "metadata": {
        "id": "CePkruve3gVH"
      }
    },
    {
      "cell_type": "code",
      "source": [
        "# For the 'distiluse-base-multilingual-cased-v2' model\n",
        "# Original dataset\n",
        "errors_categories_distiluse_orig = []\n",
        "for i in range(len(categories)):\n",
        "  df = df_orig_distiluse_class_le[df_orig_distiluse_class_le['Class1']==categories[i]]\n",
        "  df.drop(labels=['ArticleName', 'ArticleGroupName', 'Class1', 'ClassLabel'], axis=1, inplace=True)\n",
        "  avg_emb_cat = average_emb_distiluse_orig[i]\n",
        "  err_cat = []\n",
        "  for j in range(len(df)):\n",
        "    emb_item = df.iloc[j].values.tolist()\n",
        "    cos_sim = util.cos_sim(emb_item, avg_emb_cat)\n",
        "    err = 1 - cos_sim[0][0].numpy()\n",
        "    err_cat.append(err)\n",
        "  \n",
        "  avg_err_cat = np.mean(err_cat)\n",
        "  print(str(categories[i]) + \" average error = \" + str(avg_err_cat))\n",
        "  errors_categories_distiluse_orig.append(avg_err_cat)\n",
        "\n",
        "avg_error_distiluse_orig = np.mean(errors_categories_distiluse_orig)\n",
        "print(\"Average error of the distiluse model, original data = \", avg_error_distiluse_orig)\n",
        "\n",
        "# Processed dataset\n",
        "errors_categories_distiluse_proc = []\n",
        "for i in range(len(categories)):\n",
        "  df = df_proc_distiluse_class_le[df_proc_distiluse_class_le['Class1']==categories[i]]\n",
        "  df.drop(labels=['ArticleName', 'ArticleGroupName', 'Class1', 'ClassLabel'], axis=1, inplace=True)\n",
        "  avg_emb_cat = average_emb_distiluse_proc[i]\n",
        "  err_cat = []\n",
        "  for j in range(len(df)):\n",
        "    emb_item = df.iloc[j].values.tolist()\n",
        "    cos_sim = util.cos_sim(emb_item, avg_emb_cat)\n",
        "    err = 1 - cos_sim[0][0].numpy()\n",
        "    err_cat.append(err)\n",
        "  \n",
        "  avg_err_cat = np.mean(err_cat)\n",
        "  print(str(categories[i]) + \" average error = \" + str(avg_err_cat))\n",
        "  errors_categories_distiluse_proc.append(avg_err_cat)\n",
        "\n",
        "avg_error_distiluse_proc = np.mean(errors_categories_distiluse_proc)\n",
        "print(\"Average error of the distiluse model, processed data = \", avg_error_distiluse_proc)"
      ],
      "metadata": {
        "colab": {
          "base_uri": "https://localhost:8080/"
        },
        "id": "TNQ6jqot3iXk",
        "outputId": "e9a910e5-0bf0-4d1d-ad92-dcd9bb824947"
      },
      "execution_count": 13,
      "outputs": [
        {
          "output_type": "stream",
          "name": "stderr",
          "text": [
            "/usr/local/lib/python3.7/dist-packages/pandas/core/frame.py:4913: SettingWithCopyWarning: \n",
            "A value is trying to be set on a copy of a slice from a DataFrame\n",
            "\n",
            "See the caveats in the documentation: https://pandas.pydata.org/pandas-docs/stable/user_guide/indexing.html#returning-a-view-versus-a-copy\n",
            "  errors=errors,\n"
          ]
        },
        {
          "output_type": "stream",
          "name": "stdout",
          "text": [
            "Beer average error = 0.4181541837397076\n",
            "Burger average error = 0.15320111172539846\n",
            "Champagne average error = 0.30525710582733157\n",
            "Cider average error = 0.3300479395048959\n",
            "CoffeeTeaMilk average error = 0.2645779764279723\n",
            "Dessert average error = 0.25527550957419654\n",
            "Kids average error = 0.18376439384051732\n",
            "Other average error = 0.26920985324042185\n",
            "Salad average error = 0.1490752339363098\n",
            "SoftDrinks average error = 0.37150480449199674\n",
            "Spirits average error = 0.45640783085681425\n",
            "VariedFood average error = 0.4253638302286466\n",
            "Wine average error = 0.44038394597214714\n",
            "Wings average error = 0.16834097603956857\n",
            "Average error of the distiluse model, original data =  0.2993260496718518\n",
            "Beer average error = 0.42114792913198473\n",
            "Burger average error = 0.15320110888708205\n",
            "Champagne average error = 0.27298644185066223\n",
            "Cider average error = 0.3099356208528791\n",
            "CoffeeTeaMilk average error = 0.24247363415257683\n",
            "Dessert average error = 0.25527550957419654\n",
            "Kids average error = 0.18376441938536509\n",
            "Other average error = 0.2692098617553711\n",
            "Salad average error = 0.14907528162002565\n",
            "SoftDrinks average error = 0.3708262341096997\n",
            "Spirits average error = 0.4773040926909145\n",
            "VariedFood average error = 0.4126428184855698\n",
            "Wine average error = 0.42225025503924396\n",
            "Wings average error = 0.1542617440223694\n",
            "Average error of the distiluse model, processed data =  0.2924539251112815\n"
          ]
        }
      ]
    },
    {
      "cell_type": "code",
      "source": [
        "# For the 'paraphrase-multilingual-MiniLM-L12-v2' model\n",
        "# Original dataset\n",
        "errors_categories_para_mini_orig = []\n",
        "for i in range(len(categories)):\n",
        "  df = df_orig_para_mini_class_le[df_orig_para_mini_class_le['Class1']==categories[i]]\n",
        "  df.drop(labels=['ArticleName', 'ArticleGroupName', 'Class1', 'ClassLabel'], axis=1, inplace=True)\n",
        "  avg_emb_cat = average_emb_para_mini_orig[i]\n",
        "  err_cat = []\n",
        "  for j in range(len(df)):\n",
        "    emb_item = df.iloc[j].values.tolist()\n",
        "    cos_sim = util.cos_sim(emb_item, avg_emb_cat)\n",
        "    err = 1 - cos_sim[0][0].numpy()\n",
        "    err_cat.append(err)\n",
        "  \n",
        "  avg_err_cat = np.mean(err_cat)\n",
        "  print(str(categories[i]) + \" average error = \" + str(avg_err_cat))\n",
        "  errors_categories_para_mini_orig.append(avg_err_cat)\n",
        "\n",
        "avg_error_para_mini_orig = np.mean(errors_categories_para_mini_orig)\n",
        "print(\"Average error of the para-mini model, original data = \", avg_error_para_mini_orig)\n",
        "\n",
        "# Processed dataset\n",
        "errors_categories_para_mini_proc = []\n",
        "for i in range(len(categories)):\n",
        "  df = df_proc_para_mini_class_le[df_proc_para_mini_class_le['Class1']==categories[i]]\n",
        "  df.drop(labels=['ArticleName', 'ArticleGroupName', 'Class1', 'ClassLabel'], axis=1, inplace=True)\n",
        "  avg_emb_cat = average_emb_para_mini_proc[i]\n",
        "  err_cat = []\n",
        "  for j in range(len(df)):\n",
        "    emb_item = df.iloc[j].values.tolist()\n",
        "    cos_sim = util.cos_sim(emb_item, avg_emb_cat)\n",
        "    err = 1 - cos_sim[0][0].numpy()\n",
        "    err_cat.append(err)\n",
        "  \n",
        "  avg_err_cat = np.mean(err_cat)\n",
        "  print(str(categories[i]) + \" average error = \" + str(avg_err_cat))\n",
        "  errors_categories_para_mini_proc.append(avg_err_cat)\n",
        "\n",
        "avg_error_para_mini_proc = np.mean(errors_categories_para_mini_proc)\n",
        "print(\"Average error of the para-mini model, processed data = \", avg_error_para_mini_proc)"
      ],
      "metadata": {
        "colab": {
          "base_uri": "https://localhost:8080/"
        },
        "id": "A3OuQ0os5Fok",
        "outputId": "47f71f07-d86a-40e1-ec18-48b6cfd3226c"
      },
      "execution_count": 14,
      "outputs": [
        {
          "output_type": "stream",
          "name": "stderr",
          "text": [
            "/usr/local/lib/python3.7/dist-packages/pandas/core/frame.py:4913: SettingWithCopyWarning: \n",
            "A value is trying to be set on a copy of a slice from a DataFrame\n",
            "\n",
            "See the caveats in the documentation: https://pandas.pydata.org/pandas-docs/stable/user_guide/indexing.html#returning-a-view-versus-a-copy\n",
            "  errors=errors,\n"
          ]
        },
        {
          "output_type": "stream",
          "name": "stdout",
          "text": [
            "Beer average error = 0.4060156152361915\n",
            "Burger average error = 0.16317686012813024\n",
            "Champagne average error = 0.280228328704834\n",
            "Cider average error = 0.35993335928235737\n",
            "CoffeeTeaMilk average error = 0.2871701139956713\n",
            "Dessert average error = 0.3151837180961262\n",
            "Kids average error = 0.2744613417557308\n",
            "Other average error = 0.3259931802749634\n",
            "Salad average error = 0.18259392380714418\n",
            "SoftDrinks average error = 0.40405533969402313\n",
            "Spirits average error = 0.4499983548527897\n",
            "VariedFood average error = 0.43731678103407223\n",
            "Wine average error = 0.3973142937035628\n",
            "Wings average error = 0.16700596113999686\n",
            "Average error of the para-mini model, original data =  0.3178890836932567\n",
            "Beer average error = 0.4085450530052185\n",
            "Burger average error = 0.16317686012813024\n",
            "Champagne average error = 0.23912415653467178\n",
            "Cider average error = 0.36715626290866304\n",
            "CoffeeTeaMilk average error = 0.26720238348533365\n",
            "Dessert average error = 0.3151837099682201\n",
            "Kids average error = 0.27446135027068\n",
            "Other average error = 0.3259931802749634\n",
            "Salad average error = 0.18259390592575073\n",
            "SoftDrinks average error = 0.40200108382850885\n",
            "Spirits average error = 0.4572205260584626\n",
            "VariedFood average error = 0.4281496423431951\n",
            "Wine average error = 0.39265822009606793\n",
            "Wings average error = 0.15855871438980101\n",
            "Average error of the para-mini model, processed data =  0.31300178922983335\n"
          ]
        }
      ]
    },
    {
      "cell_type": "code",
      "source": [
        "# For the 'paraphrase-multilingual-mpnet-base-v2' model\n",
        "# Original dataset\n",
        "errors_categories_para_base_orig = []\n",
        "for i in range(len(categories)):\n",
        "  df = df_orig_para_base_class_le[df_orig_para_base_class_le['Class1']==categories[i]]\n",
        "  df.drop(labels=['ArticleName', 'ArticleGroupName', 'Class1', 'ClassLabel'], axis=1, inplace=True)\n",
        "  avg_emb_cat = average_emb_para_base_orig[i]\n",
        "  err_cat = []\n",
        "  for j in range(len(df)):\n",
        "    emb_item = df.iloc[j].values.tolist()\n",
        "    cos_sim = util.cos_sim(emb_item, avg_emb_cat)\n",
        "    err = 1 - cos_sim[0][0].numpy()\n",
        "    err_cat.append(err)\n",
        "  \n",
        "  avg_err_cat = np.mean(err_cat)\n",
        "  print(str(categories[i]) + \" average error = \" + str(avg_err_cat))\n",
        "  errors_categories_para_base_orig.append(avg_err_cat)\n",
        "\n",
        "avg_error_para_base_orig = np.mean(errors_categories_para_base_orig)\n",
        "print(\"Average error of the para base model, original data = \", avg_error_para_base_orig)\n",
        "\n",
        "# Processed dataset\n",
        "errors_categories_para_base_proc = []\n",
        "for i in range(len(categories)):\n",
        "  df = df_proc_para_base_class_le[df_proc_para_base_class_le['Class1']==categories[i]]\n",
        "  df.drop(labels=['ArticleName', 'ArticleGroupName', 'Class1', 'ClassLabel'], axis=1, inplace=True)\n",
        "  avg_emb_cat = average_emb_para_base_proc[i]\n",
        "  err_cat = []\n",
        "  for j in range(len(df)):\n",
        "    emb_item = df.iloc[j].values.tolist()\n",
        "    cos_sim = util.cos_sim(emb_item, avg_emb_cat)\n",
        "    err = 1 - cos_sim[0][0].numpy()\n",
        "    err_cat.append(err)\n",
        "  \n",
        "  avg_err_cat = np.mean(err_cat)\n",
        "  print(str(categories[i]) + \" average error = \" + str(avg_err_cat))\n",
        "  errors_categories_para_base_proc.append(avg_err_cat)\n",
        "\n",
        "avg_error_para_base_proc = np.mean(errors_categories_para_base_proc)\n",
        "print(\"Average error of the para base model, processed data = \", avg_error_para_base_proc)"
      ],
      "metadata": {
        "colab": {
          "base_uri": "https://localhost:8080/"
        },
        "id": "bPtprwir6Yft",
        "outputId": "64904885-79d4-40e2-bc04-fcef885c4460"
      },
      "execution_count": 15,
      "outputs": [
        {
          "output_type": "stream",
          "name": "stderr",
          "text": [
            "/usr/local/lib/python3.7/dist-packages/pandas/core/frame.py:4913: SettingWithCopyWarning: \n",
            "A value is trying to be set on a copy of a slice from a DataFrame\n",
            "\n",
            "See the caveats in the documentation: https://pandas.pydata.org/pandas-docs/stable/user_guide/indexing.html#returning-a-view-versus-a-copy\n",
            "  errors=errors,\n"
          ]
        },
        {
          "output_type": "stream",
          "name": "stdout",
          "text": [
            "Beer average error = 0.38060671318145023\n",
            "Burger average error = 0.1492778119586763\n",
            "Champagne average error = 0.16510926485061644\n",
            "Cider average error = 0.24421802588871547\n",
            "CoffeeTeaMilk average error = 0.2373707452788949\n",
            "Dessert average error = 0.23179766806689175\n",
            "Kids average error = 0.22387267010552542\n",
            "Other average error = 0.2923394611903599\n",
            "Salad average error = 0.10976433753967285\n",
            "SoftDrinks average error = 0.3335033851861954\n",
            "Spirits average error = 0.40363836111408646\n",
            "VariedFood average error = 0.36049164136250816\n",
            "Wine average error = 0.3720813888899038\n",
            "Wings average error = 0.13800856471061707\n",
            "Average error of the para base model, original data =  0.2601485742374367\n",
            "Beer average error = 0.4298372929294904\n",
            "Burger average error = 0.14927782047362553\n",
            "Champagne average error = 0.17451836168766022\n",
            "Cider average error = 0.2475076871258872\n",
            "CoffeeTeaMilk average error = 0.23167033647668772\n",
            "Dessert average error = 0.23179768432270398\n",
            "Kids average error = 0.22387258921350753\n",
            "Other average error = 0.2923394611903599\n",
            "Salad average error = 0.10976436138153076\n",
            "SoftDrinks average error = 0.3769518844783306\n",
            "Spirits average error = 0.44653164774556703\n",
            "VariedFood average error = 0.35338469702973324\n",
            "Wine average error = 0.3721141950650649\n",
            "Wings average error = 0.15323675870895387\n",
            "Average error of the para base model, processed data =  0.27091462698779306\n"
          ]
        }
      ]
    },
    {
      "cell_type": "code",
      "source": [
        "'''\n",
        "Visualise the results.\n",
        "Models: \n",
        "'distiluse-base-multilingual-cased-v2',  \n",
        "'paraphrase-multilingual-MiniLM-L12-v2' and\n",
        "'paraphrase-multilingual-mpnet-base-v2'. \n",
        "'''\n",
        "\n",
        "import matplotlib.pyplot as plt\n",
        "\n",
        "# Average error per category for the 3 different models\n",
        "# Plot grid\n",
        "fig = plt.figure()\n",
        "fig.set_size_inches(8,8)\n",
        "ax = fig.add_subplot(111)\n",
        "\n",
        "ax1 = fig.add_subplot(311)\n",
        "ax2 = fig.add_subplot(312)\n",
        "ax3 = fig.add_subplot(313)\n",
        "\n",
        "# Turn off axis lines and ticks of the big subplot\n",
        "ax.spines['top'].set_color('none')\n",
        "ax.spines['bottom'].set_color('none')\n",
        "ax.spines['left'].set_color('none')\n",
        "ax.spines['right'].set_color('none')\n",
        "ax.tick_params(labelcolor='w', top=False, bottom=False, left=False, right=False)\n",
        "# Subplots - change arguments here for every score\n",
        "ax1.bar(categories, errors_categories_distiluse_orig)\n",
        "ax2.bar(categories, errors_categories_para_mini_orig)\n",
        "ax3.bar(categories, errors_categories_para_base_orig)\n",
        "\n",
        "ax1.axhline(avg_error_distiluse_orig, color='red')\n",
        "ax2.axhline(avg_error_para_mini_orig, color='red')\n",
        "ax3.axhline(avg_error_para_base_orig, color='red')\n",
        "\n",
        "ax1.tick_params(axis='x',labelrotation=45)\n",
        "ax2.tick_params(axis='x',labelrotation=45)\n",
        "ax3.tick_params(axis='x',labelrotation=45)\n",
        "\n",
        "# Set the suptitle and common labels\n",
        "fig.suptitle('Average error per category for 3 different models, unprocessed data')\n",
        "ax.set_ylabel('Average error')\n",
        "\n",
        "# Set the subplot titles\n",
        "ax1.set_title('distiluse-base-multilingual-cased-v2')\n",
        "ax2.set_title('paraphrase-multilingual-MiniLM-L12-v2')\n",
        "ax3.set_title('paraphrase-multilingual-mpnet-base-v2')\n",
        "\n",
        "# Adjust sizes of subplots automatically\n",
        "plt.tight_layout()\n",
        "\n",
        "# Adjust the suptitle overlap\n",
        "plt.subplots_adjust(top=0.9)\n",
        "\n",
        "# Save and plot - change here for every score\n",
        "plt.savefig('average_err_cat_orig', dpi=300)\n",
        "plt.show()"
      ],
      "metadata": {
        "colab": {
          "base_uri": "https://localhost:8080/",
          "height": 569
        },
        "id": "V-eY1LgU7g9e",
        "outputId": "d4c26cb4-420a-4bdf-d1f6-ebe067ad374d"
      },
      "execution_count": 20,
      "outputs": [
        {
          "output_type": "display_data",
          "data": {
            "text/plain": [
              "<Figure size 576x576 with 4 Axes>"
            ],
            "image/png": "[encoded data removed]"
          },
          "metadata": {}
        }
      ]
    },
    {
      "cell_type": "code",
      "source": [
        "# Original data\n",
        "# Compare the average errors of models\n",
        "average_errors_models_orig = [avg_error_distiluse_orig, avg_error_para_mini_orig, avg_error_para_base_orig]\n",
        "models = ['distiluse', 'para-mini', 'para-base']\n",
        "\n",
        "fig = plt.figure()\n",
        "ax = fig.add_subplot(111)\n",
        "ax.bar(models, average_errors_models_orig)\n",
        "\n",
        "ax.set_title('The average errors of models, custom metric, unprocessed data')\n",
        "ax.set_ylabel('Average error')\n",
        "\n",
        "plt.savefig('average_errors_models_orig', dpi=300)\n",
        "plt.show()"
      ],
      "metadata": {
        "colab": {
          "base_uri": "https://localhost:8080/",
          "height": 282
        },
        "id": "-wMw236jABHU",
        "outputId": "9768a78a-ea5c-406e-bd0c-8f9f1e944cda"
      },
      "execution_count": 21,
      "outputs": [
        {
          "output_type": "display_data",
          "data": {
            "text/plain": [
              "<Figure size 432x288 with 1 Axes>"
            ],
            "image/png": "[encoded data removed]"
          },
          "metadata": {
            "needs_background": "light"
          }
        }
      ]
    },
    {
      "cell_type": "code",
      "source": [
        "# Processed data\n",
        "# Compare the average errors of models\n",
        "average_errors_models_proc = [avg_error_distiluse_proc, avg_error_para_mini_proc, avg_error_para_base_proc]\n",
        "models = ['distiluse', 'para-mini', 'para-base']\n",
        "\n",
        "fig = plt.figure()\n",
        "ax = fig.add_subplot(111)\n",
        "ax.bar(models, average_errors_models_proc)\n",
        "\n",
        "ax.set_title('The average errors of models, custom metric, processed data')\n",
        "ax.set_ylabel('Average error')\n",
        "\n",
        "plt.savefig('average_errors_models_proc', dpi=300)\n",
        "plt.show()"
      ],
      "metadata": {
        "colab": {
          "base_uri": "https://localhost:8080/",
          "height": 282
        },
        "id": "cuT1cRBfAfdD",
        "outputId": "998233f0-72fd-480e-afb9-5e95666490d9"
      },
      "execution_count": 22,
      "outputs": [
        {
          "output_type": "display_data",
          "data": {
            "text/plain": [
              "<Figure size 432x288 with 1 Axes>"
            ],
            "image/png": "[encoded data removed]"
          },
          "metadata": {
            "needs_background": "light"
          }
        }
      ]
    },
    {
      "cell_type": "code",
      "source": [
        ""
      ],
      "metadata": {
        "id": "sZCPzwJsAx5B"
      },
      "execution_count": null,
      "outputs": []
    }
  ]
}