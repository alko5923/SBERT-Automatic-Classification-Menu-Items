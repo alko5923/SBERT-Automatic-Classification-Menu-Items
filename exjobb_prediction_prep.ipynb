{
  "nbformat": 4,
  "nbformat_minor": 0,
  "metadata": {
    "colab": {
      "name": "exjobb-prediction-prep.ipynb",
      "provenance": [],
      "collapsed_sections": []
    },
    "kernelspec": {
      "name": "python3",
      "display_name": "Python 3"
    },
    "language_info": {
      "name": "python"
    }
  },
  "cells": [
    {
      "cell_type": "markdown",
      "source": [
        "In this notebook we will split the dataset into a training and a test set, define a function for the prediction algorithm and run it. Then we will visualise and compare the results."
      ],
      "metadata": {
        "id": "U2E2bfftYbku"
      }
    },
    {
      "cell_type": "code",
      "execution_count": null,
      "metadata": {
        "id": "3WV6ugkCYWUe"
      },
      "outputs": [],
      "source": [
        "pip install -U sentence-transformers"
      ]
    },
    {
      "cell_type": "code",
      "source": [
        "from sentence_transformers import util\n",
        "from sklearn.model_selection import train_test_split\n",
        "import numpy as np"
      ],
      "metadata": {
        "id": "MN1uo7SFYx28"
      },
      "execution_count": 2,
      "outputs": []
    },
    {
      "cell_type": "markdown",
      "source": [
        "Let us begin by loading the embeddings."
      ],
      "metadata": {
        "id": "SPhPZgIeZQ9J"
      }
    },
    {
      "cell_type": "code",
      "source": [
        "import pandas as pd\n",
        "\n",
        "# Load the embeddings\n",
        "df_orig_distiluse_class_le = pd.read_csv('/content/df-orig-distil-class-le.csv')\n",
        "df_orig_para_mini_class_le = pd.read_csv('/content/df-orig-para-mini-class-le.csv')\n",
        "df_orig_para_base_class_le = pd.read_csv('/content/df-orig-para-base-class-le.csv')\n",
        "\n",
        "df_proc_distiluse_class_le = pd.read_csv('/content/df-proc-distil-class-le.csv')\n",
        "df_proc_para_mini_class_le = pd.read_csv('/content/df-proc-para-mini-class-le.csv')\n",
        "df_proc_para_base_class_le = pd.read_csv('/content/df-proc-para-base-class-le.csv')"
      ],
      "metadata": {
        "id": "QnYE27_bZP0M"
      },
      "execution_count": 46,
      "outputs": []
    },
    {
      "cell_type": "markdown",
      "source": [
        "Let us split the datasets into training and test sets."
      ],
      "metadata": {
        "id": "pAIllkHkaNcd"
      }
    },
    {
      "cell_type": "code",
      "source": [
        "# For the distiluse-base-multilingual-cased-v2' model, unprocessed data\n",
        "# Drop the class label column\n",
        "df_orig_distiluse_class_le = df_orig_distiluse_class_le.drop(['ArticleGroupName', 'ClassLabel'], axis=1)\n",
        "\n",
        "X_orig = df_orig_distiluse_class_le\n",
        "y_orig = df_orig_distiluse_class_le.iloc[:, :2]\n",
        "\n",
        "# Split into training and test set \n",
        "(X_train_distil_orig, X_test_distil_orig, \n",
        " y_train_distil_orig, y_test_distil_orig) = train_test_split(X_orig, y_orig, test_size = 0.2,\n",
        "                                                             random_state = 42, stratify=df_orig_distiluse_class_le['Class1'])\n",
        "\n",
        "# Inspect the train and test datasets\n",
        "print(X_train_distil_orig['Class1'].value_counts())\n",
        "print(X_test_distil_orig['Class1'].value_counts())\n",
        "print(y_train_distil_orig['Class1'].value_counts())\n",
        "print(y_test_distil_orig['Class1'].value_counts())\n"
      ],
      "metadata": {
        "id": "2__sAqi7aNAx",
        "colab": {
          "base_uri": "https://localhost:8080/"
        },
        "outputId": "10bdd2db-9dde-4d4f-aef2-317d6ca928d3"
      },
      "execution_count": 47,
      "outputs": [
        {
          "output_type": "stream",
          "name": "stdout",
          "text": [
            "VariedFood       96\n",
            "Beer             84\n",
            "Spirits          81\n",
            "Wine             57\n",
            "SoftDrinks       40\n",
            "CoffeeTeaMilk    25\n",
            "Burger           17\n",
            "Cider            11\n",
            "Kids             11\n",
            "Dessert           9\n",
            "Wings             9\n",
            "Other             6\n",
            "Salad             4\n",
            "Champagne         4\n",
            "Name: Class1, dtype: int64\n",
            "VariedFood       24\n",
            "Beer             21\n",
            "Spirits          20\n",
            "Wine             14\n",
            "SoftDrinks       10\n",
            "CoffeeTeaMilk     7\n",
            "Burger            4\n",
            "Cider             3\n",
            "Kids              3\n",
            "Wings             3\n",
            "Dessert           2\n",
            "Salad             1\n",
            "Other             1\n",
            "Champagne         1\n",
            "Name: Class1, dtype: int64\n",
            "VariedFood       96\n",
            "Beer             84\n",
            "Spirits          81\n",
            "Wine             57\n",
            "SoftDrinks       40\n",
            "CoffeeTeaMilk    25\n",
            "Burger           17\n",
            "Cider            11\n",
            "Kids             11\n",
            "Dessert           9\n",
            "Wings             9\n",
            "Other             6\n",
            "Salad             4\n",
            "Champagne         4\n",
            "Name: Class1, dtype: int64\n",
            "VariedFood       24\n",
            "Beer             21\n",
            "Spirits          20\n",
            "Wine             14\n",
            "SoftDrinks       10\n",
            "CoffeeTeaMilk     7\n",
            "Burger            4\n",
            "Cider             3\n",
            "Kids              3\n",
            "Wings             3\n",
            "Dessert           2\n",
            "Salad             1\n",
            "Other             1\n",
            "Champagne         1\n",
            "Name: Class1, dtype: int64\n"
          ]
        }
      ]
    },
    {
      "cell_type": "code",
      "source": [
        "# For the distiluse-base-multilingual-cased-v2' model, processed data\n",
        "# Drop the class label column\n",
        "df_proc_distiluse_class_le = df_proc_distiluse_class_le.drop(['ArticleGroupName', 'ClassLabel'], axis=1)\n",
        "\n",
        "X_proc = df_proc_distiluse_class_le\n",
        "y_proc = df_proc_distiluse_class_le.iloc[:, :2]\n",
        "\n",
        "# Split into training and test set \n",
        "(X_train_distil_proc, X_test_distil_proc,\n",
        " y_train_distil_proc, y_test_distil_proc) = train_test_split(X_proc, y_proc, test_size = 0.2,\n",
        "                                                             random_state = 42, stratify=df_proc_distiluse_class_le['Class1'])\n",
        "\n",
        "# Inspect the train and test datasets\n",
        "print(X_train_distil_proc['Class1'].value_counts())\n",
        "print(X_test_distil_proc['Class1'].value_counts())\n",
        "print(y_train_distil_proc['Class1'].value_counts())\n",
        "print(y_test_distil_proc['Class1'].value_counts())"
      ],
      "metadata": {
        "id": "tSl6j_cvlvrF",
        "colab": {
          "base_uri": "https://localhost:8080/"
        },
        "outputId": "b2d8c0db-c681-4994-a20a-e848900671d6"
      },
      "execution_count": 48,
      "outputs": [
        {
          "output_type": "stream",
          "name": "stdout",
          "text": [
            "VariedFood       93\n",
            "Spirits          63\n",
            "Wine             53\n",
            "Beer             48\n",
            "SoftDrinks       26\n",
            "CoffeeTeaMilk    23\n",
            "Burger           17\n",
            "Kids             11\n",
            "Cider            11\n",
            "Dessert           9\n",
            "Other             6\n",
            "Salad             4\n",
            "Wings             4\n",
            "Champagne         3\n",
            "Name: Class1, dtype: int64\n",
            "VariedFood       24\n",
            "Spirits          16\n",
            "Wine             13\n",
            "Beer             12\n",
            "SoftDrinks        6\n",
            "CoffeeTeaMilk     6\n",
            "Burger            4\n",
            "Kids              3\n",
            "Cider             3\n",
            "Dessert           2\n",
            "Salad             1\n",
            "Champagne         1\n",
            "Other             1\n",
            "Wings             1\n",
            "Name: Class1, dtype: int64\n",
            "VariedFood       93\n",
            "Spirits          63\n",
            "Wine             53\n",
            "Beer             48\n",
            "SoftDrinks       26\n",
            "CoffeeTeaMilk    23\n",
            "Burger           17\n",
            "Kids             11\n",
            "Cider            11\n",
            "Dessert           9\n",
            "Other             6\n",
            "Salad             4\n",
            "Wings             4\n",
            "Champagne         3\n",
            "Name: Class1, dtype: int64\n",
            "VariedFood       24\n",
            "Spirits          16\n",
            "Wine             13\n",
            "Beer             12\n",
            "SoftDrinks        6\n",
            "CoffeeTeaMilk     6\n",
            "Burger            4\n",
            "Kids              3\n",
            "Cider             3\n",
            "Dessert           2\n",
            "Salad             1\n",
            "Champagne         1\n",
            "Other             1\n",
            "Wings             1\n",
            "Name: Class1, dtype: int64\n"
          ]
        }
      ]
    },
    {
      "cell_type": "code",
      "source": [
        "# For the 'paraphrase-multilingual-MiniLM-L12-v2' model, unprocessed data\n",
        "# Drop the class label column\n",
        "df_orig_para_mini_class_le = df_orig_para_mini_class_le.drop(['ArticleGroupName', 'ClassLabel'], axis=1)\n",
        "\n",
        "X_orig = df_orig_para_mini_class_le\n",
        "y_orig = df_orig_para_mini_class_le.iloc[:, :2]\n",
        "\n",
        "# Split into training and test set \n",
        "(X_train_para_mini_orig, X_test_para_mini_orig,\n",
        " y_train_para_mini_orig, y_test_para_mini_orig) = train_test_split(X_orig, y_orig, test_size = 0.2,\n",
        "                                                                   random_state = 42, stratify=df_orig_para_mini_class_le['Class1'])\n",
        "\n",
        "# Inspect the train and test datasets\n",
        "print(X_train_para_mini_orig['Class1'].value_counts())\n",
        "print(X_test_para_mini_orig['Class1'].value_counts())\n",
        "print(y_train_para_mini_orig['Class1'].value_counts())\n",
        "print(y_test_para_mini_orig['Class1'].value_counts())"
      ],
      "metadata": {
        "id": "VwFt2yOalklH",
        "colab": {
          "base_uri": "https://localhost:8080/"
        },
        "outputId": "9f6bdde0-a398-46d4-b936-debd4112ccbc"
      },
      "execution_count": 49,
      "outputs": [
        {
          "output_type": "stream",
          "name": "stdout",
          "text": [
            "VariedFood       96\n",
            "Beer             84\n",
            "Spirits          81\n",
            "Wine             57\n",
            "SoftDrinks       40\n",
            "CoffeeTeaMilk    25\n",
            "Burger           17\n",
            "Cider            11\n",
            "Kids             11\n",
            "Dessert           9\n",
            "Wings             9\n",
            "Other             6\n",
            "Salad             4\n",
            "Champagne         4\n",
            "Name: Class1, dtype: int64\n",
            "VariedFood       24\n",
            "Beer             21\n",
            "Spirits          20\n",
            "Wine             14\n",
            "SoftDrinks       10\n",
            "CoffeeTeaMilk     7\n",
            "Burger            4\n",
            "Cider             3\n",
            "Kids              3\n",
            "Wings             3\n",
            "Dessert           2\n",
            "Salad             1\n",
            "Other             1\n",
            "Champagne         1\n",
            "Name: Class1, dtype: int64\n",
            "VariedFood       96\n",
            "Beer             84\n",
            "Spirits          81\n",
            "Wine             57\n",
            "SoftDrinks       40\n",
            "CoffeeTeaMilk    25\n",
            "Burger           17\n",
            "Cider            11\n",
            "Kids             11\n",
            "Dessert           9\n",
            "Wings             9\n",
            "Other             6\n",
            "Salad             4\n",
            "Champagne         4\n",
            "Name: Class1, dtype: int64\n",
            "VariedFood       24\n",
            "Beer             21\n",
            "Spirits          20\n",
            "Wine             14\n",
            "SoftDrinks       10\n",
            "CoffeeTeaMilk     7\n",
            "Burger            4\n",
            "Cider             3\n",
            "Kids              3\n",
            "Wings             3\n",
            "Dessert           2\n",
            "Salad             1\n",
            "Other             1\n",
            "Champagne         1\n",
            "Name: Class1, dtype: int64\n"
          ]
        }
      ]
    },
    {
      "cell_type": "code",
      "source": [
        "# For the 'paraphrase-multilingual-MiniLM-L12-v2' model, processed data\n",
        "# Drop the class label column\n",
        "df_proc_para_mini_class_le = df_proc_para_mini_class_le.drop(['ArticleGroupName', 'ClassLabel'], axis=1)\n",
        "\n",
        "X_proc = df_proc_para_mini_class_le\n",
        "y_proc = df_proc_para_mini_class_le.iloc[:, :2]\n",
        "\n",
        "# Split into training and test set \n",
        "(X_train_para_mini_proc, X_test_para_mini_proc,\n",
        " y_train_para_mini_proc, y_test_para_mini_proc) = train_test_split(X_proc, y_proc, test_size = 0.2,\n",
        "                                                                   random_state = 42, stratify=df_proc_para_mini_class_le['Class1'])\n",
        "\n",
        "# Inspect the train and test datasets\n",
        "print(X_train_para_mini_proc['Class1'].value_counts())\n",
        "print(X_test_para_mini_proc['Class1'].value_counts())\n",
        "print(y_train_para_mini_proc['Class1'].value_counts())\n",
        "print(y_test_para_mini_proc['Class1'].value_counts())"
      ],
      "metadata": {
        "id": "thZ577RIpNRU",
        "colab": {
          "base_uri": "https://localhost:8080/"
        },
        "outputId": "880b8e1d-4a79-47d6-f654-37017f10efdf"
      },
      "execution_count": 50,
      "outputs": [
        {
          "output_type": "stream",
          "name": "stdout",
          "text": [
            "VariedFood       93\n",
            "Spirits          63\n",
            "Wine             53\n",
            "Beer             48\n",
            "SoftDrinks       26\n",
            "CoffeeTeaMilk    23\n",
            "Burger           17\n",
            "Kids             11\n",
            "Cider            11\n",
            "Dessert           9\n",
            "Other             6\n",
            "Salad             4\n",
            "Wings             4\n",
            "Champagne         3\n",
            "Name: Class1, dtype: int64\n",
            "VariedFood       24\n",
            "Spirits          16\n",
            "Wine             13\n",
            "Beer             12\n",
            "SoftDrinks        6\n",
            "CoffeeTeaMilk     6\n",
            "Burger            4\n",
            "Kids              3\n",
            "Cider             3\n",
            "Dessert           2\n",
            "Salad             1\n",
            "Champagne         1\n",
            "Other             1\n",
            "Wings             1\n",
            "Name: Class1, dtype: int64\n",
            "VariedFood       93\n",
            "Spirits          63\n",
            "Wine             53\n",
            "Beer             48\n",
            "SoftDrinks       26\n",
            "CoffeeTeaMilk    23\n",
            "Burger           17\n",
            "Kids             11\n",
            "Cider            11\n",
            "Dessert           9\n",
            "Other             6\n",
            "Salad             4\n",
            "Wings             4\n",
            "Champagne         3\n",
            "Name: Class1, dtype: int64\n",
            "VariedFood       24\n",
            "Spirits          16\n",
            "Wine             13\n",
            "Beer             12\n",
            "SoftDrinks        6\n",
            "CoffeeTeaMilk     6\n",
            "Burger            4\n",
            "Kids              3\n",
            "Cider             3\n",
            "Dessert           2\n",
            "Salad             1\n",
            "Champagne         1\n",
            "Other             1\n",
            "Wings             1\n",
            "Name: Class1, dtype: int64\n"
          ]
        }
      ]
    },
    {
      "cell_type": "code",
      "source": [
        "# For the 'paraphrase-multilingual-mpnet-base-v2' model, unprocessed data\n",
        "# Drop the class label column\n",
        "df_orig_para_base_class_le = df_orig_para_base_class_le.drop(['ArticleGroupName', 'ClassLabel'], axis=1)\n",
        "\n",
        "X_orig = df_orig_para_base_class_le\n",
        "y_orig = df_orig_para_base_class_le.iloc[:, :2]\n",
        "\n",
        "# Split into training and test set \n",
        "(X_train_para_base_orig, X_test_para_base_orig, \n",
        " y_train_para_base_orig, y_test_para_base_orig) = train_test_split(X_orig, y_orig, test_size = 0.2,\n",
        "                                                                   random_state = 42, stratify=df_orig_para_base_class_le['Class1'])\n",
        "\n",
        "# Inspect the train and test datasets\n",
        "print(X_train_para_base_orig['Class1'].value_counts())\n",
        "print(X_test_para_base_orig['Class1'].value_counts())\n",
        "print(y_train_para_base_orig['Class1'].value_counts())\n",
        "print(y_test_para_base_orig['Class1'].value_counts())"
      ],
      "metadata": {
        "id": "SfNsuwZLp5Z3",
        "colab": {
          "base_uri": "https://localhost:8080/"
        },
        "outputId": "8c5a85e1-f207-4f5a-bc6c-bac3217a9bd6"
      },
      "execution_count": 51,
      "outputs": [
        {
          "output_type": "stream",
          "name": "stdout",
          "text": [
            "VariedFood       96\n",
            "Beer             84\n",
            "Spirits          81\n",
            "Wine             57\n",
            "SoftDrinks       40\n",
            "CoffeeTeaMilk    25\n",
            "Burger           17\n",
            "Cider            11\n",
            "Kids             11\n",
            "Dessert           9\n",
            "Wings             9\n",
            "Other             6\n",
            "Salad             4\n",
            "Champagne         4\n",
            "Name: Class1, dtype: int64\n",
            "VariedFood       24\n",
            "Beer             21\n",
            "Spirits          20\n",
            "Wine             14\n",
            "SoftDrinks       10\n",
            "CoffeeTeaMilk     7\n",
            "Burger            4\n",
            "Cider             3\n",
            "Kids              3\n",
            "Wings             3\n",
            "Dessert           2\n",
            "Salad             1\n",
            "Other             1\n",
            "Champagne         1\n",
            "Name: Class1, dtype: int64\n",
            "VariedFood       96\n",
            "Beer             84\n",
            "Spirits          81\n",
            "Wine             57\n",
            "SoftDrinks       40\n",
            "CoffeeTeaMilk    25\n",
            "Burger           17\n",
            "Cider            11\n",
            "Kids             11\n",
            "Dessert           9\n",
            "Wings             9\n",
            "Other             6\n",
            "Salad             4\n",
            "Champagne         4\n",
            "Name: Class1, dtype: int64\n",
            "VariedFood       24\n",
            "Beer             21\n",
            "Spirits          20\n",
            "Wine             14\n",
            "SoftDrinks       10\n",
            "CoffeeTeaMilk     7\n",
            "Burger            4\n",
            "Cider             3\n",
            "Kids              3\n",
            "Wings             3\n",
            "Dessert           2\n",
            "Salad             1\n",
            "Other             1\n",
            "Champagne         1\n",
            "Name: Class1, dtype: int64\n"
          ]
        }
      ]
    },
    {
      "cell_type": "code",
      "source": [
        "# For the 'paraphrase-multilingual-mpnet-base-v2' model, processed data\n",
        "# Drop the class label column\n",
        "df_proc_para_base_class_le = df_proc_para_base_class_le.drop(['ArticleGroupName', 'ClassLabel'], axis=1)\n",
        "\n",
        "X_proc = df_proc_para_base_class_le\n",
        "y_proc = df_proc_para_base_class_le.iloc[:, :2]\n",
        "\n",
        "# Split into training and test set \n",
        "(X_train_para_base_proc, X_test_para_base_proc,\n",
        " y_train_para_base_proc, y_test_para_base_proc) = train_test_split(X_proc, y_proc, test_size = 0.2,\n",
        "                                                                   random_state = 42, stratify=df_proc_para_base_class_le['Class1'])\n",
        "\n",
        "# Inspect the train and test datasets\n",
        "print(X_train_para_base_proc['Class1'].value_counts())\n",
        "print(X_test_para_base_proc['Class1'].value_counts())\n",
        "print(y_train_para_base_proc['Class1'].value_counts())\n",
        "print(y_test_para_base_proc['Class1'].value_counts())"
      ],
      "metadata": {
        "id": "WmT3Cr0Jrmqp",
        "colab": {
          "base_uri": "https://localhost:8080/"
        },
        "outputId": "6f1c0c27-3684-46d6-8cc2-f60b75a4c4fc"
      },
      "execution_count": 52,
      "outputs": [
        {
          "output_type": "stream",
          "name": "stdout",
          "text": [
            "VariedFood       93\n",
            "Spirits          63\n",
            "Wine             53\n",
            "Beer             48\n",
            "SoftDrinks       26\n",
            "CoffeeTeaMilk    23\n",
            "Burger           17\n",
            "Kids             11\n",
            "Cider            11\n",
            "Dessert           9\n",
            "Other             6\n",
            "Salad             4\n",
            "Wings             4\n",
            "Champagne         3\n",
            "Name: Class1, dtype: int64\n",
            "VariedFood       24\n",
            "Spirits          16\n",
            "Wine             13\n",
            "Beer             12\n",
            "SoftDrinks        6\n",
            "CoffeeTeaMilk     6\n",
            "Burger            4\n",
            "Kids              3\n",
            "Cider             3\n",
            "Dessert           2\n",
            "Salad             1\n",
            "Champagne         1\n",
            "Other             1\n",
            "Wings             1\n",
            "Name: Class1, dtype: int64\n",
            "VariedFood       93\n",
            "Spirits          63\n",
            "Wine             53\n",
            "Beer             48\n",
            "SoftDrinks       26\n",
            "CoffeeTeaMilk    23\n",
            "Burger           17\n",
            "Kids             11\n",
            "Cider            11\n",
            "Dessert           9\n",
            "Other             6\n",
            "Salad             4\n",
            "Wings             4\n",
            "Champagne         3\n",
            "Name: Class1, dtype: int64\n",
            "VariedFood       24\n",
            "Spirits          16\n",
            "Wine             13\n",
            "Beer             12\n",
            "SoftDrinks        6\n",
            "CoffeeTeaMilk     6\n",
            "Burger            4\n",
            "Kids              3\n",
            "Cider             3\n",
            "Dessert           2\n",
            "Salad             1\n",
            "Champagne         1\n",
            "Other             1\n",
            "Wings             1\n",
            "Name: Class1, dtype: int64\n"
          ]
        }
      ]
    },
    {
      "cell_type": "markdown",
      "source": [
        "Let us save the datasets as csv files."
      ],
      "metadata": {
        "id": "Gh0OafVw-5iH"
      }
    },
    {
      "cell_type": "code",
      "source": [
        "X_train_distil_orig.to_csv('x-train-distil-orig.csv', index=False)\n",
        "X_test_distil_orig.to_csv('x-test-distil-orig.csv', index=False)\n",
        "y_train_distil_orig.to_csv('y-train-distil-orig.csv', index=False)\n",
        "y_test_distil_orig.to_csv('y-test-distil-orig.csv', index=False)\n",
        "\n",
        "X_train_distil_proc.to_csv('x-train-distil-proc.csv', index=False)\n",
        "X_test_distil_proc.to_csv('x-test-distil-proc.csv', index=False)\n",
        "y_train_distil_proc.to_csv('y-train-distil-proc.csv', index=False)\n",
        "y_test_distil_proc.to_csv('y-test-distil-proc.csv', index=False)\n",
        "\n",
        "X_train_para_mini_orig.to_csv('x-train-para-mini-orig.csv', index=False)\n",
        "X_test_para_mini_orig.to_csv('x-test-para-mini-orig.csv', index=False)\n",
        "y_train_para_mini_orig.to_csv('y-train-para-mini-orig.csv', index=False)\n",
        "y_test_para_mini_orig.to_csv('y-test-para-mini-orig.csv', index=False)\n",
        "\n",
        "X_train_para_mini_proc.to_csv('x-train-para-mini-proc.csv', index=False)\n",
        "X_test_para_mini_proc.to_csv('x-test-para-mini-proc.csv', index=False)\n",
        "y_train_para_mini_proc.to_csv('y-train-para-mini-proc.csv', index=False)\n",
        "y_test_para_mini_proc.to_csv('y-test-para-mini-proc.csv', index=False)\n",
        "\n",
        "X_train_para_base_orig.to_csv('x-train-para-base-orig.csv', index=False)\n",
        "X_test_para_base_orig.to_csv('x-test-para-base-orig.csv', index=False)\n",
        "y_train_para_base_orig.to_csv('y-train-para-base-orig.csv', index=False)\n",
        "y_test_para_base_orig.to_csv('y-test-para-base-orig.csv', index=False)\n",
        "\n",
        "X_train_para_base_proc.to_csv('x-train-para-base-proc.csv', index=False)\n",
        "X_test_para_base_proc.to_csv('x-test-para-base-proc.csv', index=False)\n",
        "y_train_para_base_proc.to_csv('y-train-para-base-proc.csv', index=False)\n",
        "y_test_para_base_proc.to_csv('y-test-para-base-proc.csv', index=False)\n"
      ],
      "metadata": {
        "id": "6buWuGZx-_O8"
      },
      "execution_count": 53,
      "outputs": []
    }
  ]
}